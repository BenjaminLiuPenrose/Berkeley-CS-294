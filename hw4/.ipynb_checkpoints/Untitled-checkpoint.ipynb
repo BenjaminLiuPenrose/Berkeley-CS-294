{
 "cells": [
  {
   "cell_type": "markdown",
   "metadata": {},
   "source": [
    "# Problem 3b\n",
    "### a) Plot comparing performance when varying the MPC horizon.\n",
    "![mpc horizons](plots/HalfCheetah_q3_mpc_horizon.jpg)\n",
    "\n",
    "### b) Plot comparing performance when varying the number of randomly sampled action sequences used for planning.\n",
    "![actions](plots/HalfCheetah_q3_actions.jpg)\n",
    "\n",
    "### c) Plot comparing performance when varying the number of neural network layers for the learned dynamics model.\n",
    "![nn layers](plots/HalfCheetah_q3_nn_layers.jpg)\n",
    "\n"
   ]
  },
  {
   "cell_type": "code",
   "execution_count": null,
   "metadata": {},
   "outputs": [],
   "source": []
  }
 ],
 "metadata": {
  "kernelspec": {
   "display_name": "Python 3",
   "language": "python",
   "name": "python3"
  },
  "language_info": {
   "codemirror_mode": {
    "name": "ipython",
    "version": 3
   },
   "file_extension": ".py",
   "mimetype": "text/x-python",
   "name": "python",
   "nbconvert_exporter": "python",
   "pygments_lexer": "ipython3",
   "version": "3.6.6"
  }
 },
 "nbformat": 4,
 "nbformat_minor": 2
}
