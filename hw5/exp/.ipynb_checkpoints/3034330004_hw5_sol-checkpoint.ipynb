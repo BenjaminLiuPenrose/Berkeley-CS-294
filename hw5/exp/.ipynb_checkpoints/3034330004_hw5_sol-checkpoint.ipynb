{
 "cells": [
  {
   "cell_type": "markdown",
   "metadata": {},
   "source": [
    "# Advanced Exploration\n",
    "## Problem 1 - Hist Exploration\n",
    "#### The reward modification (Eqn. 1), the count-based reward bonus (Eqn. 2), and the histogram density model\n",
    "- A plot with 2 curves comparing an agent with histogrambased exploration and an agent with no exploration\n",
    "![hist](data/Q1.png)"
   ]
  },
  {
   "cell_type": "markdown",
   "metadata": {},
   "source": [
    "## Problem 2 - RBF Exploration\n",
    "#### The heuristic reward bonus (Eqn. 2), and the kernel density estimator with the radial basis function kernel.\n",
    "- A plot with 2 curves comparing an agent with KDEbased exploration and an agent with no exploration\n",
    "![rbf](data/Q2.png)"
   ]
  },
  {
   "cell_type": "markdown",
   "metadata": {},
   "source": [
    "## Problem 3 - EX2 Exploration\n",
    "- A plot with 2 curves comparing an agent with EX2-based exploration and an agent with no exploration\n",
    "![ex2](data/Q3_sub.png)"
   ]
  },
  {
   "cell_type": "markdown",
   "metadata": {},
   "source": [
    "## Problem 4 - EX2 Exploration, Hyper-params\n",
    "- A plot with 3 curves comparing the agents with EX2-based exploration and an agent with no exploration\n",
    "![ex2_HC](data/Q4_final.png)\n",
    "\n",
    "\n",
    "### Short answer: \n",
    "- The average return peaks at the middle for both EX2 exploration. \n",
    "- The learning is better with parameter `bc = 0.0001`"
   ]
  },
  {
   "cell_type": "code",
   "execution_count": null,
   "metadata": {},
   "outputs": [],
   "source": []
  }
 ],
 "metadata": {
  "kernelspec": {
   "display_name": "Python 3",
   "language": "python",
   "name": "python3"
  },
  "language_info": {
   "codemirror_mode": {
    "name": "ipython",
    "version": 3
   },
   "file_extension": ".py",
   "mimetype": "text/x-python",
   "name": "python",
   "nbconvert_exporter": "python",
   "pygments_lexer": "ipython3",
   "version": "3.6.6"
  }
 },
 "nbformat": 4,
 "nbformat_minor": 2
}
