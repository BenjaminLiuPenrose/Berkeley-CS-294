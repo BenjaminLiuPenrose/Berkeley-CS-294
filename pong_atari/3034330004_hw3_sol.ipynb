{
 "cells": [
  {
   "cell_type": "markdown",
   "metadata": {},
   "source": [
    "# Part 1: Q-Learning\n",
    "## Question 1 - basic Q-learning performance\n",
    "#### Include a learning curve plot showing the performance of your implementation on the game Pong.\n",
    "![DQN](data/DQN.png)\n"
   ]
  },
  {
   "cell_type": "markdown",
   "metadata": {},
   "source": [
    "---"
   ]
  },
  {
   "cell_type": "markdown",
   "metadata": {},
   "source": [
    "## Question 2 - double Q-learning\n",
    "#### Compare the performance of double DQN to vanilla DQN.\n",
    "- We can see that, especially after 1.5m steps, double-Q learner learns slightly faster (according to the log, ~200,000 faster than the DQN learner) and reaches reward 20 earlier than DQN leaner.\n",
    "- With Double Q\n",
    "![DDQN](data/DDQN.png)\n",
    "- Without Double Q (DQN, first 3m timesteps)\n",
    "![DQN_vs_DDQN](data/DQN_vs_DDQN.png)\n"
   ]
  },
  {
   "cell_type": "markdown",
   "metadata": {},
   "source": [
    "---"
   ]
  },
  {
   "cell_type": "markdown",
   "metadata": {},
   "source": [
    "## Question 3 - experimenting with hyperparamsters\n",
    "#### Choose one hyperparameter of your choice and run at least three other settings of this hyperparameter, in addition to the one used in Question 1, and plot all four values on the same graph.\n",
    "- `gamma=0.8`, `gamma=0.9`, `gamma=0.95`, `gamma=0.97`, `gamma=0.99`\n",
    "- Gamma = 0.8\n",
    "![DQN_0.8](data/DQN_0.8.png)\n",
    "- Gamma = 0.9\n",
    "![DQN_0.9](data/DQN_0.9.png)\n",
    "- Gamma = 0.95\n",
    "![DQN_0.95](data/DQN_0.95.png)\n",
    "- Gamma = 0.97\n",
    "![DQN_0.97](data/DQN_0.97.png)\n",
    "- Gamma = 0.99\n",
    "![DQN_0.99](data/DQN_0.99.png)\n",
    "- All in one, [red: 0.97, green:0.95, orange: 0.9, blue:0.8]\n",
    "![DQN_hyper](data/DQN_hyper_zoomin.png)"
   ]
  },
  {
   "cell_type": "markdown",
   "metadata": {},
   "source": [
    "---"
   ]
  },
  {
   "cell_type": "markdown",
   "metadata": {},
   "source": [
    "# Part 2: Actor-Critic\n",
    "## Question 1 - Sanity check with Cartpole\n",
    "#### Compare the results for the following settings and report which worked best. Provide a short explanation for your results.\n",
    "\n",
    "`python train_ac_f18.py CartPole-v0 -n 100 -b 1000 -e 3 --exp_name 1_1 -ntu 1 -ngsptu 1`\n",
    "\n",
    "`python train_ac_f18.py CartPole-v0 -n 100 -b 1000 -e 3 --exp_name 100_1 -ntu 100 -ngsptu 1`\n",
    "\n",
    "`python train_ac_f18.py CartPole-v0 -n 100 -b 1000 -e 3 --exp_name 1_100 -ntu 1 -ngsptu 100`\n",
    "\n",
    "`python train_ac_f18.py CartPole-v0 -n 100 -b 1000 -e 3 --exp_name 10_10 -ntu 10 -ngsptu 10`\n",
    "\n",
    "- The results\n",
    "![CartPole](data/CartPole_all.png)"
   ]
  },
  {
   "cell_type": "markdown",
   "metadata": {},
   "source": [
    "---"
   ]
  },
  {
   "cell_type": "markdown",
   "metadata": {},
   "source": [
    "## Question 2 - Run actor-critic with more difficult tasks\n",
    "#### Use the best setting from the previous question to run InvertedPendulum and HalfCheetah.\n",
    "\n",
    "`python train_ac_f18.py InvertedPendulum-v2 -ep 1000 --discount 0.95 -n 100 -e 3 -l 2 -s 64 -b 5000 -lr 0.01 --exp_name 10_10 -ntu 10 -ngsptu 10`\n",
    "\n",
    "\n",
    "- The results :\n",
    "![InvertedPendulum](data/InvertedPendulum_10_10.png)\n",
    "\n"
   ]
  },
  {
   "cell_type": "markdown",
   "metadata": {},
   "source": [
    "`python train_ac_f18.py HalfCheetah-v2 -ep 150 --discount 0.90 -n 100 -e 3 -l 2 -s 32 -b 30000 -lr 0.02 --exp_name 10_10 -ntu 10 -ngsptu 10`\n",
    "\n",
    "- The results :\n",
    "![HalfCheetah](data/HalfCheetah_10_10.png)"
   ]
  },
  {
   "cell_type": "code",
   "execution_count": null,
   "metadata": {},
   "outputs": [],
   "source": []
  }
 ],
 "metadata": {
  "kernelspec": {
   "display_name": "Python 3",
   "language": "python",
   "name": "python3"
  },
  "language_info": {
   "codemirror_mode": {
    "name": "ipython",
    "version": 3
   },
   "file_extension": ".py",
   "mimetype": "text/x-python",
   "name": "python",
   "nbconvert_exporter": "python",
   "pygments_lexer": "ipython3",
   "version": "3.6.6"
  }
 },
 "nbformat": 4,
 "nbformat_minor": 2
}
